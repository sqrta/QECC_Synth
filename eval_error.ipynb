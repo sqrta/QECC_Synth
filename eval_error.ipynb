{
 "cells": [
  {
   "cell_type": "code",
   "execution_count": 7,
   "metadata": {},
   "outputs": [],
   "source": [
    "using TensorNetworkCodes\n",
    "using PyCall"
   ]
  },
  {
   "cell_type": "code",
   "execution_count": 6,
   "metadata": {},
   "outputs": [
    {
     "data": {
      "text/plain": [
       "4-element Vector{Int64}:\n",
       " 1\n",
       " 0\n",
       " 0\n",
       " 1"
      ]
     },
     "metadata": {},
     "output_type": "display_data"
    }
   ],
   "source": [
    "code = five_qubit_code();\n",
    "syndrome = find_syndrome(code, [0, 1, 3, 0, 1])\n",
    "pure_error = find_pure_error(code, syndrome)\n",
    "syndrome"
   ]
  },
  {
   "cell_type": "code",
   "execution_count": 9,
   "metadata": {},
   "outputs": [
    {
     "name": "stdout",
     "output_type": "stream",
     "text": [
      "[1, 0, 0, 1]\n",
      "[1, 0, 0, 1]\n",
      "[1, 0, 0, 1]\n",
      "[1, 0, 0, 1]\n",
      "[1, 0, 0, 1]\n",
      "[1, 0, 0, 1]\n",
      "[1, 0, 0, 1]\n",
      "[1, 0, 0, 1]\n",
      "[1, 0, 0, 1]\n",
      "[1, 0, 0, 1]\n",
      "[1, 0, 0, 1]\n",
      "[1, 0, 0, 1]\n",
      "[1, 0, 0, 1]\n",
      "[1, 0, 0, 1]\n",
      "[1, 0, 0, 1]\n",
      "[1, 0, 0, 1]\n"
     ]
    }
   ],
   "source": [
    "find_syndrome(code, [1, 2, 0, 1, 1])\n",
    "vec = [[2, 0, 2, 2, 1], [0, 0, 0, 3, 0], [1, 3, 3, 2, 0], [3, 0, 3, 1, 2], [3, 1, 0, 2, 3], [2, 3, 0, 0, 2], [2, 1, 1, 1, 0], [0, 3, 2, 1, 3], [1, 1, 2, 3, 2], [3, 3, 1, 3, 1], [3, 2, 2, 0, 0], [0, 1, 3, 0, 1], [1, 0, 1, 0, 3], [0, 2, 1, 2, 2], [1, 2, 0, 1, 1], [2, 2, 3, 3, 3]]\n",
    "for v in vec \n",
    "    println(find_syndrome(code, v))\n",
    "end"
   ]
  },
  {
   "cell_type": "code",
   "execution_count": 4,
   "metadata": {},
   "outputs": [
    {
     "data": {
      "text/plain": [
       "8-element Vector{Int64}:\n",
       " 0\n",
       " 0\n",
       " 0\n",
       " 0\n",
       " 1\n",
       " 1\n",
       " 0\n",
       " 0"
      ]
     },
     "metadata": {},
     "output_type": "display_data"
    }
   ],
   "source": [
    "\n",
    "code = rotated_surface_code(3);\n",
    "\n",
    "error = [0, 0, 0, 1, 0, 0, 3, 0, 0];  # IIIXIIZII\n",
    "\n",
    "syndrome = find_syndrome(code, error)"
   ]
  },
  {
   "cell_type": "code",
   "execution_count": 10,
   "metadata": {},
   "outputs": [
    {
     "data": {
      "text/plain": [
       "([0, 0, 0, 3, 3, 0, 1, 3, 0], 0.9999333266651851)"
      ]
     },
     "metadata": {},
     "output_type": "display_data"
    }
   ],
   "source": [
    "p=0.0001\n",
    "recovery, success_prob = tn_decode(code, syndrome, p; contract_fn=mps_contract(8))"
   ]
  },
  {
   "cell_type": "code",
   "execution_count": 2,
   "metadata": {},
   "outputs": [
    {
     "data": {
      "text/plain": [
       "true"
      ]
     },
     "metadata": {},
     "output_type": "display_data"
    }
   ],
   "source": [
    "using TensorNetworkCodes.TNDecode\n",
    "\n",
    "code = rotated_surface_code(3);\n",
    "\n",
    "error = [0, 0, 0, 1, 0, 0, 3, 0, 0];  # IIIXIIZII\n",
    "\n",
    "syndrome = find_syndrome(code, error);\n",
    "\n",
    "p = 0.2;  # error_probability\n",
    "\n",
    "recovery, success_prob = tn_decode(code, syndrome, p; contract_fn=mps_contract(8))\n",
    "\n",
    "find_syndrome(code, recovery) == syndrome"
   ]
  }
 ],
 "metadata": {
  "kernelspec": {
   "display_name": "Julia 1.9.2",
   "language": "julia",
   "name": "julia-1.9"
  },
  "language_info": {
   "file_extension": ".jl",
   "mimetype": "application/julia",
   "name": "julia",
   "version": "1.9.2"
  }
 },
 "nbformat": 4,
 "nbformat_minor": 2
}
