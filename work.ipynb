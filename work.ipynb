{
 "cells": [
  {
   "cell_type": "code",
   "execution_count": 57,
   "metadata": {},
   "outputs": [
    {
     "name": "stdout",
     "output_type": "stream",
     "text": [
      "[[1 0 1]\n",
      " [1 1 0]]\n",
      "[[-0.57735027]\n",
      " [ 0.57735027]\n",
      " [ 0.57735027]]\n"
     ]
    },
    {
     "data": {
      "text/plain": [
       "GF([[1, 1, 1]], order=2)"
      ]
     },
     "execution_count": 57,
     "metadata": {},
     "output_type": "execute_result"
    }
   ],
   "source": [
    "import numpy as np\n",
    "from numpy.polynomial import Polynomial\n",
    "from sympy import symbols, simplify, Poly, Matrix\n",
    "from sympy.abc import x, y, z\n",
    "from scipy import linalg\n",
    "import random\n",
    "import galois\n",
    "\n",
    "GF = galois.GF(2)\n",
    "\n",
    "l=3\n",
    "m=2\n",
    "n=m*l\n",
    "a = [random.randint(0,1) for i in range(n**2)]\n",
    "a = [[1,0,1], [1,1,0]]\n",
    "x = np.array(a).reshape(2, 3)\n",
    "\n",
    "print(x)\n",
    "print(linalg.null_space(x))\n",
    "A = GF(x)\n",
    "A.null_space()\n",
    "\n",
    "\n"
   ]
  },
  {
   "cell_type": "code",
   "execution_count": 1,
   "metadata": {},
   "outputs": [],
   "source": [
    "import pickle"
   ]
  },
  {
   "cell_type": "code",
   "execution_count": 73,
   "metadata": {},
   "outputs": [
    {
     "name": "stdout",
     "output_type": "stream",
     "text": [
      "740000\n"
     ]
    }
   ],
   "source": [
    "with open('zaratan/3.18/save/count.pkl', 'rb') as f:\n",
    "    count = pickle.load(f)\n",
    "    print(count)"
   ]
  },
  {
   "cell_type": "code",
   "execution_count": 4,
   "metadata": {},
   "outputs": [
    {
     "data": {
      "text/plain": [
       "2"
      ]
     },
     "execution_count": 4,
     "metadata": {},
     "output_type": "execute_result"
    }
   ],
   "source": [
    "from queue import Queue\n",
    "a=Queue()\n",
    "a.put(1)\n",
    "a.put(2)\n",
    "a.qsize()"
   ]
  },
  {
   "cell_type": "code",
   "execution_count": 8,
   "metadata": {},
   "outputs": [
    {
     "name": "stdout",
     "output_type": "stream",
     "text": [
      "[(1, 2), (1, 3), (1, 4), (2, 3), (2, 4), (3, 4)]\n"
     ]
    },
    {
     "data": {
      "text/plain": [
       "4"
      ]
     },
     "execution_count": 8,
     "metadata": {},
     "output_type": "execute_result"
    }
   ],
   "source": [
    "import itertools\n",
    "\n",
    "stuff = [1, 2, 3, 4]\n",
    "combinations = list(itertools.combinations(stuff, 2))\n",
    "\n",
    "# Print the list of combinations to the console\n",
    "print(combinations)\n",
    "combinations.index((2,4))\n"
   ]
  },
  {
   "cell_type": "markdown",
   "metadata": {},
   "source": [
    "/scratch/zt1/project/xiaodiwu-prj/user/hwdeng/QECC_Synth/\n",
    "\n",
    "| 角色 | 时间 | 链接 |\n",
    "|:---:|:---:|:----:|"
   ]
  },
  {
   "cell_type": "code",
   "execution_count": 2,
   "metadata": {},
   "outputs": [
    {
     "data": {
      "text/plain": [
       "[2, 3]"
      ]
     },
     "execution_count": 2,
     "metadata": {},
     "output_type": "execute_result"
    }
   ],
   "source": [
    "def numberToBase(n, b):\n",
    "    if n == 0:\n",
    "        return [0]\n",
    "    digits = []\n",
    "    while n:\n",
    "        digits.append(int(n % b))\n",
    "        n //= b\n",
    "    return digits[::-1]\n",
    "\n",
    "numberToBase(11, 4)"
   ]
  },
  {
   "cell_type": "code",
   "execution_count": 21,
   "metadata": {},
   "outputs": [
    {
     "data": {
      "text/plain": [
       "'001100'"
      ]
     },
     "execution_count": 21,
     "metadata": {},
     "output_type": "execute_result"
    }
   ],
   "source": [
    "import numpy as np\n",
    "\n",
    "a=12\n",
    "n=6\n",
    "f'{a:0{n}b}'\n",
    "# a= np.array([-1,-2,3,4])\n",
    "# np.where(np.absolute(a)>2)[0]"
   ]
  },
  {
   "cell_type": "code",
   "execution_count": 4,
   "metadata": {},
   "outputs": [
    {
     "data": {
      "text/plain": [
       "[(1, 3, 5),\n",
       " (1, 3, 6),\n",
       " (1, 4, 5),\n",
       " (1, 4, 6),\n",
       " (2, 3, 5),\n",
       " (2, 3, 6),\n",
       " (2, 4, 5),\n",
       " (2, 4, 6)]"
      ]
     },
     "execution_count": 4,
     "metadata": {},
     "output_type": "execute_result"
    }
   ],
   "source": [
    "from itertools import product\n",
    "\n",
    "list(product([1,2], [3,4], [5,6]))\n",
    "\n"
   ]
  },
  {
   "cell_type": "code",
   "execution_count": 63,
   "metadata": {},
   "outputs": [
    {
     "name": "stdout",
     "output_type": "stream",
     "text": [
      "length: 64\n"
     ]
    },
    {
     "data": {
      "text/latex": [
       "$x \\mapsto \\text{1.0}\\color{LightGray}{ + \\text{0.0}\\,x}\\color{LightGray}{ + \\text{0.0}\\,x^{2}} + \\text{4.0}\\,x^{3} + \\text{7.0}\\,x^{4} + \\text{4.0}\\,x^{5}$"
      ],
      "text/plain": [
       "Polynomial([1., 0., 0., 4., 7., 4.], domain=[-1.,  1.], window=[-1.,  1.])"
      ]
     },
     "metadata": {},
     "output_type": "display_data"
    },
    {
     "data": {
      "text/latex": [
       "$x \\mapsto \\color{LightGray}{\\text{0.0}}\\color{LightGray}{ + \\text{0.0}\\,x} + \\text{2.0}\\,x^{2} + \\text{4.0}\\,x^{3} + \\text{6.0}\\,x^{4} + \\text{4.0}\\,x^{5}$"
      ],
      "text/plain": [
       "Polynomial([0., 0., 2., 4., 6., 4.], domain=[-1.,  1.], window=[-1.,  1.])"
      ]
     },
     "metadata": {},
     "output_type": "display_data"
    },
    {
     "data": {
      "text/latex": [
       "$x \\mapsto \\color{LightGray}{\\text{0.0}}\\color{LightGray}{ + \\text{0.0}\\,x}\\color{LightGray}{ + \\text{0.0}\\,x^{2}} + \\text{6.0}\\,x^{3} + \\text{8.0}\\,x^{4} + \\text{2.0}\\,x^{5}$"
      ],
      "text/plain": [
       "Polynomial([0., 0., 0., 6., 8., 2.], domain=[-1.,  1.], window=[-1.,  1.])"
      ]
     },
     "metadata": {},
     "output_type": "display_data"
    },
    {
     "data": {
      "text/latex": [
       "$x \\mapsto \\color{LightGray}{\\text{0.0}}\\color{LightGray}{ + \\text{0.0}\\,x} + \\text{2.0}\\,x^{2} + \\text{4.0}\\,x^{3} + \\text{6.0}\\,x^{4} + \\text{4.0}\\,x^{5}$"
      ],
      "text/plain": [
       "Polynomial([0., 0., 2., 4., 6., 4.], domain=[-1.,  1.], window=[-1.,  1.])"
      ]
     },
     "metadata": {},
     "output_type": "display_data"
    }
   ],
   "source": [
    "enumerator = get_enum_tensor(code603, 1) \n",
    "for d in enumerator:\n",
    "    display(d)\n"
   ]
  },
  {
   "cell_type": "code",
   "execution_count": 36,
   "metadata": {},
   "outputs": [
    {
     "data": {
      "text/plain": [
       "[(1, 3), (1, 6), (2, 3), (2, 6), (3, 3), (3, 6), (4, 3), (4, 6)]"
      ]
     },
     "execution_count": 36,
     "metadata": {},
     "output_type": "execute_result"
    }
   ],
   "source": [
    "a=set()\n",
    "a.add((1,0.5))\n",
    "a.add(2,0.4)"
   ]
  },
  {
   "cell_type": "code",
   "execution_count": 13,
   "metadata": {},
   "outputs": [
    {
     "data": {
      "text/plain": [
       "1.174375e-08"
      ]
     },
     "execution_count": 13,
     "metadata": {},
     "output_type": "execute_result"
    }
   ],
   "source": [
    "\n",
    "x=0.01\n",
    "z=0.05\n",
    "y=x*z\n",
    "i = 1-x-y-z\n",
    "i*y*z*z*x"
   ]
  },
  {
   "cell_type": "markdown",
   "metadata": {},
   "source": [
    "A=x0+y8+y10, B=x1+x2+y9\n",
    "l=3,m=15,k=8,d=10 \n",
    "\n",
    "A=x1+x5+y3, B=x3+y1+y2\n",
    "l=6,m=9,k=8,d=10\n",
    "..."
   ]
  },
  {
   "cell_type": "markdown",
   "metadata": {},
   "source": [
    "\n",
    "$\\sum a_i a_j$,    where $i,j$ has $ v_i, v_j \\in V$ and $(v_i, v_j) \\in E$. \n"
   ]
  },
  {
   "cell_type": "markdown",
   "metadata": {},
   "source": [
    "$$\n",
    "\\sum_{l,m} \\frac{kd}{n}\n",
    "\n",
    "$$"
   ]
  },
  {
   "cell_type": "code",
   "execution_count": 11,
   "metadata": {},
   "outputs": [
    {
     "data": {
      "text/plain": [
       "1.0946185593750002e-08"
      ]
     },
     "execution_count": 11,
     "metadata": {},
     "output_type": "execute_result"
    }
   ],
   "source": [
    "\n",
    "(l=18,m=3), [[108, 12, 6]], x0+x3+y1, x6+x9+y2"
   ]
  },
  {
   "cell_type": "markdown",
   "metadata": {},
   "source": [
    "2 x^3 y + 2 x^2 y^2 + 2 x^2 z^2 + 6 x y z^2 + y^4 + 2 y^2 z^2 + 1\n",
    "5 x^2 y^2 + 5 x^2 z^2 + 5 y^2 z^2 + 1"
   ]
  },
  {
   "cell_type": "code",
   "execution_count": null,
   "metadata": {},
   "outputs": [],
   "source": [
    "1 2 3 4 5\n",
    "edge = [(1,3), (4,2)]\n",
    "\n",
    "initTN = ([1],[])\n",
    "TN = ([1,2], [[(1,0), (2,1)]])\n",
    "\n",
    "def EdgeScore(TN, edge):\n",
    "    score = 0\n",
    "    if TN[0][0]==1 and edge[0][1]==1:\n",
    "        score += 0.1\n",
    "    ...\n",
    "    return score\n",
    "\n",
    "for edge in valid_edge:\n",
    "    scores = [priority(TN, edge)]\n",
    "    better_edge = max(scores)\n",
    "\n",
    "def Sift(A, l, m):\n",
    "    A1, A2, A3 = A[0], A[1], A[2]\n",
    "    if (A1[0],A2[0],A3[0])==('x','y','y'):\n",
    "        if A2[1]+A3[1]==m:\n",
    "            return True\n",
    "    ...\n",
    "    return False\n",
    "\n",
    "for A in candidate_A:\n",
    "    if Sift(A,l,m)==False:\n",
    "        continue\n",
    "    for B in candidate_B:\n",
    "        evaluate(QC(A,B,l,m))\n",
    "\n",
    "\n",
    "def DFS(TN, edge):\n",
    "    if TN.size >= SIZE_LIMIT:\n",
    "        return\n",
    "    TN.add(edge)\n",
    "    evaluate(TN)\n",
    "    edges = get_all_edges(TN)\n",
    "    sort(edges, \n",
    "        key=lambda edge: score(edge),\n",
    "        reversed=True)\n",
    "    for edge in edges:\n",
    "        DFS(TN, edge)\n"
   ]
  }
 ],
 "metadata": {
  "kernelspec": {
   "display_name": "Python 3",
   "language": "python",
   "name": "python3"
  },
  "language_info": {
   "codemirror_mode": {
    "name": "ipython",
    "version": 3
   },
   "file_extension": ".py",
   "mimetype": "text/x-python",
   "name": "python",
   "nbconvert_exporter": "python",
   "pygments_lexer": "ipython3",
   "version": "3.8.6"
  },
  "orig_nbformat": 4
 },
 "nbformat": 4,
 "nbformat_minor": 2
}
