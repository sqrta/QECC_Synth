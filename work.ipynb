{
 "cells": [
  {
   "cell_type": "code",
   "execution_count": 1,
   "metadata": {},
   "outputs": [],
   "source": [
    "import numpy as np\n",
    "from numpy.polynomial import Polynomial\n",
    "from numpy.polynomial.polynomial import polygrid3d"
   ]
  },
  {
   "cell_type": "code",
   "execution_count": 7,
   "metadata": {},
   "outputs": [
    {
     "data": {
      "text/plain": [
       "array([1.])"
      ]
     },
     "execution_count": 7,
     "metadata": {},
     "output_type": "execute_result"
    }
   ],
   "source": [
    "\n",
    "p1 = polyval3d([1],[1],[1],[1])\n",
    "p1"
   ]
  },
  {
   "cell_type": "code",
   "execution_count": 21,
   "metadata": {},
   "outputs": [
    {
     "name": "stdout",
     "output_type": "stream",
     "text": [
      "length: 64\n",
      "length: 64\n"
     ]
    },
    {
     "data": {
      "text/plain": [
       "array([Polynomial([ 1.,  0.,  0.,  0., 21.,  0., 42.], domain=[-1.,  1.], window=[-1.,  1.]),\n",
       "       Polynomial([ 0.,  0.,  0.,  7.,  0., 42.,  0., 15.], domain=[-1.,  1.], window=[-1.,  1.]),\n",
       "       Polynomial([ 0.,  0.,  0.,  7.,  0., 42.,  0., 15.], domain=[-1.,  1.], window=[-1.,  1.]),\n",
       "       Polynomial([ 0.,  0.,  0.,  7.,  0., 42.,  0., 15.], domain=[-1.,  1.], window=[-1.,  1.])],\n",
       "      dtype=object)"
      ]
     },
     "execution_count": 21,
     "metadata": {},
     "output_type": "execute_result"
    }
   ],
   "source": [
    "from enumerator import *\n",
    "\n",
    "enumerator = get_enum_tensor(code603, [3,4,5]) @ get_enum_tensor(code603, [4,5])\n",
    "\n",
    "np.trace(enumerator, axis1=1, axis2=2)"
   ]
  },
  {
   "cell_type": "code",
   "execution_count": 63,
   "metadata": {},
   "outputs": [
    {
     "name": "stdout",
     "output_type": "stream",
     "text": [
      "length: 64\n"
     ]
    },
    {
     "data": {
      "text/latex": [
       "$x \\mapsto \\text{1.0}\\color{LightGray}{ + \\text{0.0}\\,x}\\color{LightGray}{ + \\text{0.0}\\,x^{2}} + \\text{4.0}\\,x^{3} + \\text{7.0}\\,x^{4} + \\text{4.0}\\,x^{5}$"
      ],
      "text/plain": [
       "Polynomial([1., 0., 0., 4., 7., 4.], domain=[-1.,  1.], window=[-1.,  1.])"
      ]
     },
     "metadata": {},
     "output_type": "display_data"
    },
    {
     "data": {
      "text/latex": [
       "$x \\mapsto \\color{LightGray}{\\text{0.0}}\\color{LightGray}{ + \\text{0.0}\\,x} + \\text{2.0}\\,x^{2} + \\text{4.0}\\,x^{3} + \\text{6.0}\\,x^{4} + \\text{4.0}\\,x^{5}$"
      ],
      "text/plain": [
       "Polynomial([0., 0., 2., 4., 6., 4.], domain=[-1.,  1.], window=[-1.,  1.])"
      ]
     },
     "metadata": {},
     "output_type": "display_data"
    },
    {
     "data": {
      "text/latex": [
       "$x \\mapsto \\color{LightGray}{\\text{0.0}}\\color{LightGray}{ + \\text{0.0}\\,x}\\color{LightGray}{ + \\text{0.0}\\,x^{2}} + \\text{6.0}\\,x^{3} + \\text{8.0}\\,x^{4} + \\text{2.0}\\,x^{5}$"
      ],
      "text/plain": [
       "Polynomial([0., 0., 0., 6., 8., 2.], domain=[-1.,  1.], window=[-1.,  1.])"
      ]
     },
     "metadata": {},
     "output_type": "display_data"
    },
    {
     "data": {
      "text/latex": [
       "$x \\mapsto \\color{LightGray}{\\text{0.0}}\\color{LightGray}{ + \\text{0.0}\\,x} + \\text{2.0}\\,x^{2} + \\text{4.0}\\,x^{3} + \\text{6.0}\\,x^{4} + \\text{4.0}\\,x^{5}$"
      ],
      "text/plain": [
       "Polynomial([0., 0., 2., 4., 6., 4.], domain=[-1.,  1.], window=[-1.,  1.])"
      ]
     },
     "metadata": {},
     "output_type": "display_data"
    }
   ],
   "source": [
    "enumerator = get_enum_tensor(code603, 1) \n",
    "for d in enumerator:\n",
    "    display(d)\n"
   ]
  }
 ],
 "metadata": {
  "kernelspec": {
   "display_name": "Python 3",
   "language": "python",
   "name": "python3"
  },
  "language_info": {
   "codemirror_mode": {
    "name": "ipython",
    "version": 3
   },
   "file_extension": ".py",
   "mimetype": "text/x-python",
   "name": "python",
   "nbconvert_exporter": "python",
   "pygments_lexer": "ipython3",
   "version": "3.8.6"
  },
  "orig_nbformat": 4
 },
 "nbformat": 4,
 "nbformat_minor": 2
}
