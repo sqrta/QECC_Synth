{
 "cells": [
  {
   "cell_type": "code",
   "execution_count": 57,
   "metadata": {},
   "outputs": [
    {
     "name": "stdout",
     "output_type": "stream",
     "text": [
      "[[1 0 1]\n",
      " [1 1 0]]\n",
      "[[-0.57735027]\n",
      " [ 0.57735027]\n",
      " [ 0.57735027]]\n"
     ]
    },
    {
     "data": {
      "text/plain": [
       "GF([[1, 1, 1]], order=2)"
      ]
     },
     "execution_count": 57,
     "metadata": {},
     "output_type": "execute_result"
    }
   ],
   "source": [
    "import numpy as np\n",
    "from numpy.polynomial import Polynomial\n",
    "from sympy import symbols, simplify, Poly, Matrix\n",
    "from sympy.abc import x, y, z\n",
    "from scipy import linalg\n",
    "import random\n",
    "import galois\n",
    "\n",
    "GF = galois.GF(2)\n",
    "\n",
    "l=3\n",
    "m=2\n",
    "n=m*l\n",
    "a = [random.randint(0,1) for i in range(n**2)]\n",
    "a = [[1,0,1], [1,1,0]]\n",
    "x = np.array(a).reshape(2, 3)\n",
    "\n",
    "print(x)\n",
    "print(linalg.null_space(x))\n",
    "A = GF(x)\n",
    "A.null_space()\n",
    "\n",
    "\n"
   ]
  },
  {
   "cell_type": "code",
   "execution_count": 1,
   "metadata": {},
   "outputs": [],
   "source": [
    "import pickle"
   ]
  },
  {
   "cell_type": "code",
   "execution_count": 73,
   "metadata": {},
   "outputs": [
    {
     "name": "stdout",
     "output_type": "stream",
     "text": [
      "740000\n"
     ]
    }
   ],
   "source": [
    "with open('zaratan/3.18/save/count.pkl', 'rb') as f:\n",
    "    count = pickle.load(f)\n",
    "    print(count)"
   ]
  },
  {
   "cell_type": "code",
   "execution_count": 75,
   "metadata": {},
   "outputs": [
    {
     "data": {
      "text/plain": [
       "1"
      ]
     },
     "execution_count": 75,
     "metadata": {},
     "output_type": "execute_result"
    }
   ],
   "source": [
    "a,b = (1,2)\n",
    "a"
   ]
  },
  {
   "cell_type": "markdown",
   "metadata": {},
   "source": [
    "/scratch/zt1/project/xiaodiwu-prj/user/hwdeng\n",
    "\n",
    "| 角色 | 时间 | 链接 |\n",
    "|:---:|:---:|:----:|"
   ]
  },
  {
   "cell_type": "code",
   "execution_count": 8,
   "metadata": {},
   "outputs": [
    {
     "data": {
      "text/plain": [
       "[2, 3]"
      ]
     },
     "execution_count": 8,
     "metadata": {},
     "output_type": "execute_result"
    }
   ],
   "source": [
    "def numberToBase(n, b):\n",
    "    if n == 0:\n",
    "        return [0]\n",
    "    digits = []\n",
    "    while n:\n",
    "        digits.append(int(n % b))\n",
    "        n //= b\n",
    "    return digits[::-1]\n",
    "\n",
    "numberToBase(11, 4)"
   ]
  },
  {
   "cell_type": "code",
   "execution_count": 24,
   "metadata": {},
   "outputs": [
    {
     "data": {
      "text/latex": [
       "$\\displaystyle -2.988804$"
      ],
      "text/plain": [
       "-2.98880400000000"
      ]
     },
     "execution_count": 24,
     "metadata": {},
     "output_type": "execute_result"
    }
   ],
   "source": [
    "\n",
    "p2 = Poly(xy + x - 3 + 2x^2 - zx^2 + x^3, domain='R')\n",
    "p1 = xy + x - 3 + 2x^2 - zx^2 + x^3\n",
    "\n",
    "p1.subs({x:0.01, z:0.05, y:0.1})"
   ]
  },
  {
   "cell_type": "code",
   "execution_count": 25,
   "metadata": {},
   "outputs": [
    {
     "data": {
      "text/plain": [
       "True"
      ]
     },
     "execution_count": 25,
     "metadata": {},
     "output_type": "execute_result"
    }
   ],
   "source": [
    "from enumerator import \n",
    "\n",
    "isinstance(1,int)"
   ]
  },
  {
   "cell_type": "code",
   "execution_count": 63,
   "metadata": {},
   "outputs": [
    {
     "name": "stdout",
     "output_type": "stream",
     "text": [
      "length: 64\n"
     ]
    },
    {
     "data": {
      "text/latex": [
       "$x \\mapsto \\text{1.0}\\color{LightGray}{ + \\text{0.0}\\,x}\\color{LightGray}{ + \\text{0.0}\\,x^{2}} + \\text{4.0}\\,x^{3} + \\text{7.0}\\,x^{4} + \\text{4.0}\\,x^{5}$"
      ],
      "text/plain": [
       "Polynomial([1., 0., 0., 4., 7., 4.], domain=[-1.,  1.], window=[-1.,  1.])"
      ]
     },
     "metadata": {},
     "output_type": "display_data"
    },
    {
     "data": {
      "text/latex": [
       "$x \\mapsto \\color{LightGray}{\\text{0.0}}\\color{LightGray}{ + \\text{0.0}\\,x} + \\text{2.0}\\,x^{2} + \\text{4.0}\\,x^{3} + \\text{6.0}\\,x^{4} + \\text{4.0}\\,x^{5}$"
      ],
      "text/plain": [
       "Polynomial([0., 0., 2., 4., 6., 4.], domain=[-1.,  1.], window=[-1.,  1.])"
      ]
     },
     "metadata": {},
     "output_type": "display_data"
    },
    {
     "data": {
      "text/latex": [
       "$x \\mapsto \\color{LightGray}{\\text{0.0}}\\color{LightGray}{ + \\text{0.0}\\,x}\\color{LightGray}{ + \\text{0.0}\\,x^{2}} + \\text{6.0}\\,x^{3} + \\text{8.0}\\,x^{4} + \\text{2.0}\\,x^{5}$"
      ],
      "text/plain": [
       "Polynomial([0., 0., 0., 6., 8., 2.], domain=[-1.,  1.], window=[-1.,  1.])"
      ]
     },
     "metadata": {},
     "output_type": "display_data"
    },
    {
     "data": {
      "text/latex": [
       "$x \\mapsto \\color{LightGray}{\\text{0.0}}\\color{LightGray}{ + \\text{0.0}\\,x} + \\text{2.0}\\,x^{2} + \\text{4.0}\\,x^{3} + \\text{6.0}\\,x^{4} + \\text{4.0}\\,x^{5}$"
      ],
      "text/plain": [
       "Polynomial([0., 0., 2., 4., 6., 4.], domain=[-1.,  1.], window=[-1.,  1.])"
      ]
     },
     "metadata": {},
     "output_type": "display_data"
    }
   ],
   "source": [
    "enumerator = get_enum_tensor(code603, 1) \n",
    "for d in enumerator:\n",
    "    display(d)\n"
   ]
  },
  {
   "cell_type": "code",
   "execution_count": 36,
   "metadata": {},
   "outputs": [
    {
     "data": {
      "text/plain": [
       "[(1, 3), (1, 6), (2, 3), (2, 6), (3, 3), (3, 6), (4, 3), (4, 6)]"
      ]
     },
     "execution_count": 36,
     "metadata": {},
     "output_type": "execute_result"
    }
   ],
   "source": [
    "a=set()\n",
    "a.add((1,0.5))\n",
    "a.add(2,0.4)"
   ]
  },
  {
   "cell_type": "code",
   "execution_count": 13,
   "metadata": {},
   "outputs": [
    {
     "data": {
      "text/plain": [
       "1.174375e-08"
      ]
     },
     "execution_count": 13,
     "metadata": {},
     "output_type": "execute_result"
    }
   ],
   "source": [
    "\n",
    "x=0.01\n",
    "z=0.05\n",
    "y=x*z\n",
    "i = 1-x-y-z\n",
    "i*y*z*z*x"
   ]
  },
  {
   "cell_type": "code",
   "execution_count": 11,
   "metadata": {},
   "outputs": [
    {
     "data": {
      "text/plain": [
       "1.0946185593750002e-08"
      ]
     },
     "execution_count": 11,
     "metadata": {},
     "output_type": "execute_result"
    }
   ],
   "source": [
    "y*x*z**2*(1-x)**3*(1-z)**25"
   ]
  },
  {
   "cell_type": "markdown",
   "metadata": {},
   "source": [
    "2 x^3 y + 2 x^2 y^2 + 2 x^2 z^2 + 6 x y z^2 + y^4 + 2 y^2 z^2 + 1\n",
    "5 x^2 y^2 + 5 x^2 z^2 + 5 y^2 z^2 + 1"
   ]
  },
  {
   "cell_type": "code",
   "execution_count": null,
   "metadata": {},
   "outputs": [],
   "source": [
    "1 2 3 4 5\n",
    "edge = [(1,3), (4,2)]\n",
    "\n",
    "initTN = ([1],[])\n",
    "TN = ([1,2], [[(1,0), (2,1)]])\n",
    "\n",
    "def priority(TN, edge):\n",
    "    score = 0\n",
    "    if TN[0][0]==1 and edge[0][1]==1:\n",
    "        score += 0.1\n",
    "    ...\n",
    "    return score\n",
    "\n",
    "for edge in valid_edge:\n",
    "    scores = [priority(TN, edge)]\n",
    "    better_edge = max(scores)\n"
   ]
  }
 ],
 "metadata": {
  "kernelspec": {
   "display_name": "Python 3",
   "language": "python",
   "name": "python3"
  },
  "language_info": {
   "codemirror_mode": {
    "name": "ipython",
    "version": 3
   },
   "file_extension": ".py",
   "mimetype": "text/x-python",
   "name": "python",
   "nbconvert_exporter": "python",
   "pygments_lexer": "ipython3",
   "version": "3.8.6"
  },
  "orig_nbformat": 4
 },
 "nbformat": 4,
 "nbformat_minor": 2
}
