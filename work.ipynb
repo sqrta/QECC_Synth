{
 "cells": [
  {
   "cell_type": "code",
   "execution_count": 2,
   "metadata": {},
   "outputs": [
    {
     "data": {
      "text/plain": [
       "array([[ 0.,  0.,  2.],\n",
       "       [ 0.,  0.,  5.],\n",
       "       [ 0.,  0.,  8.],\n",
       "       [ 0.,  0., 11.],\n",
       "       [ 0.,  0., 14.],\n",
       "       [ 0.,  0., 17.],\n",
       "       [ 0.,  0., 20.],\n",
       "       [ 0.,  0., 23.],\n",
       "       [ 0.,  0., 26.],\n",
       "       [ 0.,  0., 29.],\n",
       "       [30., 31., 32.],\n",
       "       [33., 34., 35.],\n",
       "       [36., 37., 38.],\n",
       "       [39., 40., 41.],\n",
       "       [42., 43., 44.],\n",
       "       [45., 46., 47.],\n",
       "       [48., 49., 50.],\n",
       "       [51., 52., 53.],\n",
       "       [54., 55., 56.],\n",
       "       [57., 58., 59.],\n",
       "       [60., 61., 62.],\n",
       "       [63., 64., 65.],\n",
       "       [66., 67., 68.],\n",
       "       [69., 70., 71.],\n",
       "       [72., 73., 74.],\n",
       "       [75., 76., 77.],\n",
       "       [78., 79., 80.],\n",
       "       [81., 82., 83.],\n",
       "       [84., 85., 86.],\n",
       "       [87., 88., 89.]])"
      ]
     },
     "execution_count": 2,
     "metadata": {},
     "output_type": "execute_result"
    }
   ],
   "source": [
    "import numpy as np\n",
    "from numpy.polynomial import Polynomial\n",
    "from sympy import symbols, simplify, Poly\n",
    "from sympy.abc import x, y, z\n",
    "\n",
    "x = np.arange(90.).reshape(30, 3)\n",
    "#set the first 10 rows of cols 1,2 to be zero\n",
    "x[0:10, 0:2] = 0.0\n",
    "x[(x[:,0] == 0.) & (x[:,1] == 0.) & (x[:,2] > 10)]\n",
    "#should give only a few rows\n",
    "x\n"
   ]
  },
  {
   "cell_type": "code",
   "execution_count": 24,
   "metadata": {},
   "outputs": [
    {
     "data": {
      "text/latex": [
       "$\\displaystyle -2.988804$"
      ],
      "text/plain": [
       "-2.98880400000000"
      ]
     },
     "execution_count": 24,
     "metadata": {},
     "output_type": "execute_result"
    }
   ],
   "source": [
    "\n",
    "p2 = Poly(x*y + x - 3 + 2*x**2 - z*x**2 + x**3, domain='R')\n",
    "p1 = x*y + x - 3 + 2*x**2 - z*x**2 + x**3\n",
    "\n",
    "p1.subs({x:0.01, z:0.05, y:0.1})"
   ]
  },
  {
   "cell_type": "code",
   "execution_count": 25,
   "metadata": {},
   "outputs": [
    {
     "data": {
      "text/plain": [
       "True"
      ]
     },
     "execution_count": 25,
     "metadata": {},
     "output_type": "execute_result"
    }
   ],
   "source": [
    "from enumerator import *\n",
    "\n",
    "isinstance(1,int)"
   ]
  },
  {
   "cell_type": "code",
   "execution_count": 63,
   "metadata": {},
   "outputs": [
    {
     "name": "stdout",
     "output_type": "stream",
     "text": [
      "length: 64\n"
     ]
    },
    {
     "data": {
      "text/latex": [
       "$x \\mapsto \\text{1.0}\\color{LightGray}{ + \\text{0.0}\\,x}\\color{LightGray}{ + \\text{0.0}\\,x^{2}} + \\text{4.0}\\,x^{3} + \\text{7.0}\\,x^{4} + \\text{4.0}\\,x^{5}$"
      ],
      "text/plain": [
       "Polynomial([1., 0., 0., 4., 7., 4.], domain=[-1.,  1.], window=[-1.,  1.])"
      ]
     },
     "metadata": {},
     "output_type": "display_data"
    },
    {
     "data": {
      "text/latex": [
       "$x \\mapsto \\color{LightGray}{\\text{0.0}}\\color{LightGray}{ + \\text{0.0}\\,x} + \\text{2.0}\\,x^{2} + \\text{4.0}\\,x^{3} + \\text{6.0}\\,x^{4} + \\text{4.0}\\,x^{5}$"
      ],
      "text/plain": [
       "Polynomial([0., 0., 2., 4., 6., 4.], domain=[-1.,  1.], window=[-1.,  1.])"
      ]
     },
     "metadata": {},
     "output_type": "display_data"
    },
    {
     "data": {
      "text/latex": [
       "$x \\mapsto \\color{LightGray}{\\text{0.0}}\\color{LightGray}{ + \\text{0.0}\\,x}\\color{LightGray}{ + \\text{0.0}\\,x^{2}} + \\text{6.0}\\,x^{3} + \\text{8.0}\\,x^{4} + \\text{2.0}\\,x^{5}$"
      ],
      "text/plain": [
       "Polynomial([0., 0., 0., 6., 8., 2.], domain=[-1.,  1.], window=[-1.,  1.])"
      ]
     },
     "metadata": {},
     "output_type": "display_data"
    },
    {
     "data": {
      "text/latex": [
       "$x \\mapsto \\color{LightGray}{\\text{0.0}}\\color{LightGray}{ + \\text{0.0}\\,x} + \\text{2.0}\\,x^{2} + \\text{4.0}\\,x^{3} + \\text{6.0}\\,x^{4} + \\text{4.0}\\,x^{5}$"
      ],
      "text/plain": [
       "Polynomial([0., 0., 2., 4., 6., 4.], domain=[-1.,  1.], window=[-1.,  1.])"
      ]
     },
     "metadata": {},
     "output_type": "display_data"
    }
   ],
   "source": [
    "enumerator = get_enum_tensor(code603, 1) \n",
    "for d in enumerator:\n",
    "    display(d)\n"
   ]
  },
  {
   "cell_type": "code",
   "execution_count": 36,
   "metadata": {},
   "outputs": [
    {
     "data": {
      "text/plain": [
       "[(1, 3), (1, 6), (2, 3), (2, 6), (3, 3), (3, 6), (4, 3), (4, 6)]"
      ]
     },
     "execution_count": 36,
     "metadata": {},
     "output_type": "execute_result"
    }
   ],
   "source": [
    "a=set()\n",
    "a.add((1,0.5))\n",
    "a.add(2,0.4)"
   ]
  }
 ],
 "metadata": {
  "kernelspec": {
   "display_name": "Python 3",
   "language": "python",
   "name": "python3"
  },
  "language_info": {
   "codemirror_mode": {
    "name": "ipython",
    "version": 3
   },
   "file_extension": ".py",
   "mimetype": "text/x-python",
   "name": "python",
   "nbconvert_exporter": "python",
   "pygments_lexer": "ipython3",
   "version": "3.8.6"
  },
  "orig_nbformat": 4
 },
 "nbformat": 4,
 "nbformat_minor": 2
}
